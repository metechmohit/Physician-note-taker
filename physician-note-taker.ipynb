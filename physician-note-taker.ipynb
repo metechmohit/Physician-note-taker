{
  "cells": [
    {
      "cell_type": "markdown",
      "source": [
        "## 1. Medical NLP Summarization"
      ],
      "metadata": {
        "id": "gLJUnxrE-NkI"
      }
    },
    {
      "cell_type": "code",
      "source": [
        "import warnings\n",
        "warnings.filterwarnings('ignore')"
      ],
      "metadata": {
        "id": "gyKDoYgf_h6A"
      },
      "execution_count": 29,
      "outputs": []
    },
    {
      "cell_type": "markdown",
      "source": [
        "Medical Details Extraction with pre-trained model \"dslim/bert-base-NER\""
      ],
      "metadata": {
        "id": "rERF62LZAtUk"
      }
    },
    {
      "cell_type": "code",
      "source": [
        "import json\n",
        "from transformers import AutoTokenizer, AutoModelForTokenClassification, pipeline\n",
        "\n",
        "# Load general NER model for names\n",
        "tokenizer = AutoTokenizer.from_pretrained(\"dslim/bert-base-NER\")\n",
        "model = AutoModelForTokenClassification.from_pretrained(\"dslim/bert-base-NER\")\n",
        "nlp = pipeline(\"ner\", model=model, tokenizer=tokenizer)\n",
        "\n",
        "# Load biomedical NER model for medical entities\n",
        "bio_pipe = pipeline(\"ner\", model=\"d4data/biomedical-ner-all\", aggregation_strategy=\"simple\")\n",
        "\n",
        "def extract_entity_words(ner_results, entity_code='B-PER'):\n",
        "    \"\"\"Extracts words for specified entity types, default to 'B-PER' for persons.\"\"\"\n",
        "    return [result['word'] for result in ner_results if result['entity'] == entity_code]\n",
        "\n",
        "def merge_subwords(tokens):\n",
        "    \"\"\"Merges broken subword tokens properly.\"\"\"\n",
        "    merged_tokens = []\n",
        "    current_token = \"\"\n",
        "    for token in tokens:\n",
        "        if token.startswith('##'):\n",
        "            current_token += token[2:]\n",
        "        else:\n",
        "            if current_token:\n",
        "                merged_tokens.append(current_token)\n",
        "            current_token = token\n",
        "    if current_token:\n",
        "        merged_tokens.append(current_token)\n",
        "    return merged_tokens\n",
        "\n",
        "def extract_relevant_entities(ner_results):\n",
        "    \"\"\"Extracts medical entities like symptoms and treatments.\"\"\"\n",
        "    extracted_entities = {\n",
        "        \"Biological_structure\": set(),\n",
        "        \"Symptoms\": [],\n",
        "        \"Treatments\": []\n",
        "    }\n",
        "    temp_symptoms = set()\n",
        "    temp_treatments = []\n",
        "\n",
        "    for entry in ner_results:\n",
        "        if entry['entity_group'] == 'Biological_structure':\n",
        "            extracted_entities[\"Biological_structure\"].add(entry['word'])\n",
        "        elif entry['entity_group'] == 'Sign_symptom':\n",
        "            temp_symptoms.add(entry['word'])\n",
        "        elif entry['entity_group'] == 'Therapeutic_procedure':\n",
        "            temp_treatments.append(entry['word'])\n",
        "\n",
        "    extracted_entities[\"Biological_structure\"] = list(extracted_entities[\"Biological_structure\"])\n",
        "    extracted_entities[\"Symptoms\"] = list(merge_subwords(temp_symptoms))\n",
        "    extracted_entities[\"Treatments\"] = merge_subwords(temp_treatments)\n",
        "    return extracted_entities\n",
        "\n",
        "\n",
        "# Example text\n",
        "text = \"\"\"\n",
        "Physician: Good morning, Ms. Jones. How are you feeling today?\n",
        "    Patient: Good morning, doctor. I'm doing better, but I still have some discomfort now and then.\n",
        "    Physician: I understand you were in a car accident last September. Can you walk me through what happened?\n",
        "    Patient: Yes, it was on September 1st, around 12:30 in the afternoon. I was driving from Cheadle Hulme to Manchester when I had to stop in traffic. Out of nowhere, another car hit me from behind, which pushed my car into the one in front.\n",
        "    Physician: That sounds like a strong impact. Were you wearing your seatbelt?\n",
        "    Patient: Yes, I always do.\n",
        "    Physician: What did you feel immediately after the accident?\n",
        "    Patient: At first, I was just shocked. But then I realized I had hit my head on the steering wheel, and I could feel pain in my neck and back almost right away.\n",
        "    Physician: Did you seek medical attention at that time?\n",
        "    Patient: Yes, I went to Moss Bank Accident and Emergency. They checked me over and said it was a whiplash injury, but they didn't do any X-rays. They just gave me some advice and sent me home.\n",
        "    Physician: How did things progress after that?\n",
        "    Patient: The first four weeks were rough. My neck and back pain were really bad—I had trouble sleeping and had to take painkillers regularly. It started improving after that, but I had to go through ten sessions of physiotherapy to help with the stiffness and discomfort.\n",
        "    Physician: That makes sense. Are you still experiencing pain now?\n",
        "    Patient: It's not constant, but I do get occasional backaches. It's nothing like before, though.\n",
        "    Physician: That's good to hear. Have you noticed any other effects, like anxiety while driving or difficulty concentrating?\n",
        "    Patient: No, nothing like that. I don't feel nervous driving, and I haven't had any emotional issues from the accident.\n",
        "    Physician: And how has this impacted your daily life? Work, hobbies, anything like that?\n",
        "    Patient: I had to take a week off work, but after that, I was back to my usual routine. It hasn't really stopped me from doing anything.\n",
        "    Physician: That's encouraging. Let's go ahead and do a physical examination to check your mobility and any lingering pain.\n",
        "    [Physical Examination Conducted]\n",
        "    Physician: Everything looks good. Your neck and back have a full range of movement, and there's no tenderness or signs of lasting damage. Your muscles and spine seem to be in good condition.\n",
        "    Patient: That's a relief!\n",
        "    Physician: Yes, your recovery so far has been quite positive. Given your progress, I'd expect you to make a full recovery within six months of the accident. There are no signs of long-term damage or degeneration.\n",
        "    Patient: That's great to hear. So, I don't need to worry about this affecting me in the future?\n",
        "    Physician: That's right. I don't foresee any long-term impact on your work or daily life. If anything changes or you experience worsening symptoms, you can always come back for a follow-up. But at this point, you're on track for a full recovery.\n",
        "    Patient: Thank you, doctor. I appreciate it.\n",
        "    Physician: You're very welcome, Ms. Jones. Take care, and don't hesitate to reach out if you need anything.+-\n",
        "\"\"\"\n",
        "\n",
        "# Extract names using the general NER model\n",
        "ner_results = nlp(text)\n",
        "patient_names = extract_entity_words(ner_results)\n",
        "\n",
        "# Extract medical information using the biomedical NER model\n",
        "bio_ner_results = bio_pipe(text)\n",
        "filtered_results = extract_relevant_entities(bio_ner_results)\n",
        "\n",
        "final_results = {\"Patient_Name\": patient_names[0] if patient_names else \"Unknown\"}\n",
        "final_results.update(filtered_results)  # Merge filtered_results directly into final_results\n",
        "\n",
        "# Convert dictionary to JSON string for display or storage\n",
        "json_output = json.dumps(final_results, indent=2)\n",
        "print(json_output)"
      ],
      "metadata": {
        "colab": {
          "base_uri": "https://localhost:8080/"
        },
        "id": "k3us1JiDvMA-",
        "outputId": "9219fffd-26e7-4b23-d131-0b67154627db"
      },
      "execution_count": 35,
      "outputs": [
        {
          "output_type": "stream",
          "name": "stderr",
          "text": [
            "Some weights of the model checkpoint at dslim/bert-base-NER were not used when initializing BertForTokenClassification: ['bert.pooler.dense.bias', 'bert.pooler.dense.weight']\n",
            "- This IS expected if you are initializing BertForTokenClassification from the checkpoint of a model trained on another task or with another architecture (e.g. initializing a BertForSequenceClassification model from a BertForPreTraining model).\n",
            "- This IS NOT expected if you are initializing BertForTokenClassification from the checkpoint of a model that you expect to be exactly identical (initializing a BertForSequenceClassification model from a BertForSequenceClassification model).\n",
            "Device set to use cpu\n",
            "Device set to use cpu\n"
          ]
        },
        {
          "output_type": "stream",
          "name": "stdout",
          "text": [
            "{\n",
            "  \"Patient_Name\": \"Jones\",\n",
            "  \"Biological_structure\": [\n",
            "    \"neck\",\n",
            "    \"back\"\n",
            "  ],\n",
            "  \"Symptoms\": [\n",
            "    \"discomfort\",\n",
            "    \"anxiety\",\n",
            "    \"pain\",\n",
            "    \"stiffache\"\n",
            "  ],\n",
            "  \"Treatments\": [\n",
            "    \"painkill\",\n",
            "    \"physiotherapy\"\n",
            "  ]\n",
            "}\n"
          ]
        }
      ]
    },
    {
      "cell_type": "markdown",
      "metadata": {
        "id": "9EKi3ZEUdFFe"
      },
      "source": [
        "### Summarization with pre-trained model on Hugging Face \"facebook/bart-large-cnn\"\n"
      ]
    },
    {
      "cell_type": "code",
      "execution_count": 36,
      "metadata": {
        "colab": {
          "base_uri": "https://localhost:8080/"
        },
        "id": "atT762x-ZWd9",
        "outputId": "c06738b5-200f-4df5-b30e-7107cfbf7476"
      },
      "outputs": [
        {
          "output_type": "stream",
          "name": "stderr",
          "text": [
            "Device set to use cpu\n"
          ]
        },
        {
          "output_type": "stream",
          "name": "stdout",
          "text": [
            "Summary: Ms. Jones was driving from Cheadle Hulme to Manchester when she had to stop in traffic. Out of nowhere, another car hit her from behind, which pushed her car into the one in front.\n"
          ]
        }
      ],
      "source": [
        "# Load summarization pipeline\n",
        "summarizer = pipeline(\"summarization\", model=\"facebook/bart-large-cnn\")\n",
        "\n",
        "def summarize_text(text):\n",
        "    summary = summarizer(text, max_length=130, min_length=30, do_sample=False)\n",
        "    return summary[0]['summary_text']\n",
        "\n",
        "# Example conversation\n",
        "conversation = \"\"\"\n",
        "Good morning, Ms. Jones. How are you feeling today?\n",
        "Good morning, doctor. I’m doing better, but I still have some discomfort now and then.\n",
        "I understand you were in a car accident last September. Can you walk me through what happened?\n",
        "Yes, it was on September 1st, around 12:30 in the afternoon. I was driving from Cheadle Hulme to Manchester when I had to stop in traffic. Out of nowhere, another car hit me from behind, which pushed my car into the one in front.\n",
        "That sounds like a strong impact. Were you wearing your seatbelt?\n",
        "Yes, I always do.\n",
        "What did you feel immediately after the accident?\n",
        "At first, I was just shocked. But then I realized I had hit my head on the steering wheel, and I could feel pain in my neck and back almost right away.\n",
        "\"\"\"\n",
        "\n",
        "# Extract entities and summarize\n",
        "summary = summarize_text(conversation)\n",
        "\n",
        "print(\"Summary:\", summary)\n"
      ]
    },
    {
      "cell_type": "markdown",
      "source": [
        "## For more efficient and seamless workflow, it could be done with LLM as well, for example, here we use \"gemini-2.0-flash\" model."
      ],
      "metadata": {
        "id": "1W8AgV9YObqv"
      }
    },
    {
      "cell_type": "code",
      "source": [
        "import google.generativeai as genai\n",
        "import json\n",
        "import os\n",
        "\n",
        "class MedicalNLPPipeline:\n",
        "    def __init__(self):\n",
        "\n",
        "        genai.configure(api_key=\"GEMINI_API_KEY\")\n",
        "        self.model = genai.GenerativeModel('gemini-2.0-flash')\n",
        "\n",
        "    def extract_medical_entities(self, transcript):\n",
        "        \"\"\"\n",
        "        Extract medical entities such as symptoms, diagnosis, treatment, and prognosis\n",
        "        using the Gemini API.\n",
        "        \"\"\"\n",
        "        prompt = f\"\"\"\n",
        "        Extract medical entities from the following physician-patient conversation.\n",
        "\n",
        "        Conversation:\n",
        "        {transcript}\n",
        "\n",
        "        Extract the following entities:\n",
        "        1. Patient_Name: The name of the patient\n",
        "        2. Symptoms: List of symptoms mentioned\n",
        "        3. Diagnosis: Any diagnosis made\n",
        "        4. Treatment: List of treatments mentioned\n",
        "        5. Current_Status: Current state of the patient\n",
        "        6. Prognosis: Expected outcome or future predictions\n",
        "\n",
        "        Return the output as a JSON object with these fields.\n",
        "        \"\"\"\n",
        "\n",
        "        response = self.model.generate_content(prompt)\n",
        "\n",
        "        # Extract JSON from the response\n",
        "        try:\n",
        "            # First try to parse directly if the response is clean JSON\n",
        "            result = json.loads(response.text)\n",
        "        except json.JSONDecodeError:\n",
        "            # If that fails, try to extract JSON from the text\n",
        "            text = response.text\n",
        "            json_start = text.find('{')\n",
        "            json_end = text.rfind('}') + 1\n",
        "            if json_start >= 0 and json_end > json_start:\n",
        "                json_str = text[json_start:json_end]\n",
        "                try:\n",
        "                    result = json.loads(json_str)\n",
        "                except json.JSONDecodeError:\n",
        "                    result = {\"error\": \"Could not parse JSON from response\"}\n",
        "            else:\n",
        "                result = {\"error\": \"No JSON found in response\"}\n",
        "\n",
        "        return result\n",
        "\n",
        "    def generate_medical_summary(self, transcript):\n",
        "\n",
        "        prompt = f\"\"\"\n",
        "        Create a concise medical summary from the following physician-patient conversation.\n",
        "        Focus on key medical information, diagnoses, treatments, and outcomes.\n",
        "\n",
        "        Conversation:\n",
        "        {transcript}\n",
        "\n",
        "        Format the summary as a clinical note with clear sections.\n",
        "        \"\"\"\n",
        "\n",
        "        response = self.model.generate_content(prompt)\n",
        "        return response.text\n",
        "\n",
        "    def process_transcript(self, transcript):\n",
        "        \"\"\"\n",
        "        Process the entire transcript and return a comprehensive analysis.\n",
        "        \"\"\"\n",
        "        entities = self.extract_medical_entities(transcript)\n",
        "        summary = self.generate_medical_summary(transcript)\n",
        "\n",
        "        return {\n",
        "            \"medical_entities\": entities,\n",
        "            \"medical_summary\": summary\n",
        "        }\n",
        "\n",
        "\n",
        "# Example usage\n",
        "if __name__ == \"__main__\":\n",
        "    # Sample transcript from the assignment\n",
        "    transcript = \"\"\"\n",
        "    Physician: Good morning, Ms. Jones. How are you feeling today?\n",
        "    Patient: Good morning, doctor. I'm doing better, but I still have some discomfort now and then.\n",
        "    Physician: I understand you were in a car accident last September. Can you walk me through what happened?\n",
        "    Patient: Yes, it was on September 1st, around 12:30 in the afternoon. I was driving from Cheadle Hulme to Manchester when I had to stop in traffic. Out of nowhere, another car hit me from behind, which pushed my car into the one in front.\n",
        "    Physician: That sounds like a strong impact. Were you wearing your seatbelt?\n",
        "    Patient: Yes, I always do.\n",
        "    Physician: What did you feel immediately after the accident?\n",
        "    Patient: At first, I was just shocked. But then I realized I had hit my head on the steering wheel, and I could feel pain in my neck and back almost right away.\n",
        "    Physician: Did you seek medical attention at that time?\n",
        "    Patient: Yes, I went to Moss Bank Accident and Emergency. They checked me over and said it was a whiplash injury, but they didn't do any X-rays. They just gave me some advice and sent me home.\n",
        "    Physician: How did things progress after that?\n",
        "    Patient: The first four weeks were rough. My neck and back pain were really bad—I had trouble sleeping and had to take painkillers regularly. It started improving after that, but I had to go through ten sessions of physiotherapy to help with the stiffness and discomfort.\n",
        "    Physician: That makes sense. Are you still experiencing pain now?\n",
        "    Patient: It's not constant, but I do get occasional backaches. It's nothing like before, though.\n",
        "    Physician: That's good to hear. Have you noticed any other effects, like anxiety while driving or difficulty concentrating?\n",
        "    Patient: No, nothing like that. I don't feel nervous driving, and I haven't had any emotional issues from the accident.\n",
        "    Physician: And how has this impacted your daily life? Work, hobbies, anything like that?\n",
        "    Patient: I had to take a week off work, but after that, I was back to my usual routine. It hasn't really stopped me from doing anything.\n",
        "    Physician: That's encouraging. Let's go ahead and do a physical examination to check your mobility and any lingering pain.\n",
        "    [Physical Examination Conducted]\n",
        "    Physician: Everything looks good. Your neck and back have a full range of movement, and there's no tenderness or signs of lasting damage. Your muscles and spine seem to be in good condition.\n",
        "    Patient: That's a relief!\n",
        "    Physician: Yes, your recovery so far has been quite positive. Given your progress, I'd expect you to make a full recovery within six months of the accident. There are no signs of long-term damage or degeneration.\n",
        "    Patient: That's great to hear. So, I don't need to worry about this affecting me in the future?\n",
        "    Physician: That's right. I don't foresee any long-term impact on your work or daily life. If anything changes or you experience worsening symptoms, you can always come back for a follow-up. But at this point, you're on track for a full recovery.\n",
        "    Patient: Thank you, doctor. I appreciate it.\n",
        "    Physician: You're very welcome, Ms. Jones. Take care, and don't hesitate to reach out if you need anything.\n",
        "    \"\"\"\n",
        "\n",
        "    pipeline = MedicalNLPPipeline()\n",
        "    results = pipeline.process_transcript(transcript)\n",
        "\n",
        "    # Print the results\n",
        "    print(\"MEDICAL ENTITIES:\")\n",
        "    print(json.dumps(results[\"medical_entities\"], indent=2))\n",
        "\n",
        "    print(\"\\nMEDICAL SUMMARY:\")\n",
        "    print(results[\"medical_summary\"])\n",
        ""
      ],
      "metadata": {
        "colab": {
          "base_uri": "https://localhost:8080/",
          "height": 939
        },
        "id": "wymyV-hPPxVv",
        "outputId": "630c05b9-8ce9-49ee-f2d5-8b8ff6e71eba"
      },
      "execution_count": 11,
      "outputs": [
        {
          "output_type": "stream",
          "name": "stdout",
          "text": [
            "MEDICAL ENTITIES:\n",
            "{\n",
            "  \"Patient_Name\": \"Ms. Jones\",\n",
            "  \"Symptoms\": [\n",
            "    \"discomfort\",\n",
            "    \"hit head on steering wheel\",\n",
            "    \"neck pain\",\n",
            "    \"back pain\",\n",
            "    \"trouble sleeping\",\n",
            "    \"stiffness\",\n",
            "    \"backaches\"\n",
            "  ],\n",
            "  \"Diagnosis\": [\n",
            "    \"whiplash injury\"\n",
            "  ],\n",
            "  \"Treatment\": [\n",
            "    \"painkillers\",\n",
            "    \"physiotherapy (ten sessions)\",\n",
            "    \"advice\"\n",
            "  ],\n",
            "  \"Current_Status\": \"Occasional backaches, but not constant. Neck and back have full range of movement, no tenderness or signs of lasting damage. Muscles and spine seem to be in good condition.\",\n",
            "  \"Prognosis\": \"Expect to make a full recovery within six months of the accident. No signs of long-term damage or degeneration. No long-term impact on work or daily life is foreseen.\"\n",
            "}\n",
            "\n",
            "MEDICAL SUMMARY:\n",
            "## Clinical Note\n",
            "\n",
            "**Patient:** Ms. Jones\n",
            "**Date:** Current Date (Assumed)\n",
            "\n",
            "**Chief Complaint:** Occasional backaches.\n",
            "\n",
            "**History of Present Illness:** Ms. Jones presents for follow-up after being involved in a motor vehicle accident on September 1st. She was rear-ended and subsequently pushed into another vehicle while driving from Cheadle Hulme to Manchester.  At the time of the accident, she reported hitting her head on the steering wheel and experienced immediate neck and back pain.\n",
            "\n",
            "**Past Medical History:** (Not mentioned in conversation, assumed unremarkable)\n",
            "\n",
            "**Initial Treatment:** Evaluated at Moss Bank Accident and Emergency after the accident. Diagnosed with whiplash. Received advice and discharged without X-rays.\n",
            "\n",
            "**Subsequent Treatment:** Underwent ten sessions of physiotherapy for neck and back stiffness and discomfort. Took pain medication regularly for the first four weeks post-accident.\n",
            "\n",
            "**Current Symptoms:** Reports occasional backaches, significantly improved from initial post-accident symptoms. No anxiety while driving or difficulty concentrating.\n",
            "\n",
            "**Impact on Daily Life:** Took one week off work following the accident. Reports no significant limitations to daily activities or hobbies.\n",
            "\n",
            "**Physical Examination:** Neck and back exhibit full range of movement. No tenderness or signs of lasting damage. Muscles and spine appear to be in good condition.\n",
            "\n",
            "**Diagnosis:** Resolved whiplash injury following motor vehicle accident. Residual occasional backaches.\n",
            "\n",
            "**Prognosis:** Excellent. Expected to make a full recovery within six months of the accident. No signs of long-term damage or degeneration are present.\n",
            "\n",
            "**Plan:** No further treatment required at this time.  Patient advised to return for follow-up if symptoms worsen or new symptoms develop. Reassured regarding a return to full function.\n",
            "\n"
          ]
        }
      ]
    },
    {
      "cell_type": "markdown",
      "metadata": {
        "id": "suE1RigwZyds"
      },
      "source": [
        "## Sentiment & Intent Analysis with VADER (Valence Aware Dictionary and sEntiment Reasoner), a lexicon and rule-based sentiment analysis tool"
      ]
    },
    {
      "cell_type": "code",
      "execution_count": 32,
      "metadata": {
        "id": "nwrcU9y97Jrj",
        "colab": {
          "base_uri": "https://localhost:8080/"
        },
        "outputId": "32116cd1-5c74-42b6-a3e6-05e664b87f9e"
      },
      "outputs": [
        {
          "output_type": "stream",
          "name": "stdout",
          "text": [
            "Requirement already satisfied: vaderSentiment in /usr/local/lib/python3.11/dist-packages (3.3.2)\n",
            "Requirement already satisfied: requests in /usr/local/lib/python3.11/dist-packages (from vaderSentiment) (2.32.3)\n",
            "Requirement already satisfied: charset-normalizer<4,>=2 in /usr/local/lib/python3.11/dist-packages (from requests->vaderSentiment) (3.4.1)\n",
            "Requirement already satisfied: idna<4,>=2.5 in /usr/local/lib/python3.11/dist-packages (from requests->vaderSentiment) (3.10)\n",
            "Requirement already satisfied: urllib3<3,>=1.21.1 in /usr/local/lib/python3.11/dist-packages (from requests->vaderSentiment) (2.3.0)\n",
            "Requirement already satisfied: certifi>=2017.4.17 in /usr/local/lib/python3.11/dist-packages (from requests->vaderSentiment) (2025.1.31)\n"
          ]
        }
      ],
      "source": [
        "!pip install vaderSentiment"
      ]
    },
    {
      "cell_type": "code",
      "execution_count": 33,
      "metadata": {
        "id": "_UYb-RKj7Hg-",
        "colab": {
          "base_uri": "https://localhost:8080/"
        },
        "outputId": "85ce7cf6-9401-45a2-b35e-99175b024f8e"
      },
      "outputs": [
        {
          "output_type": "stream",
          "name": "stderr",
          "text": [
            "Device set to use cpu\n"
          ]
        },
        {
          "output_type": "stream",
          "name": "stdout",
          "text": [
            "{\n",
            "  \"Sentiment\": \"Reassured\",\n",
            "  \"Intent\": \"Expressing concern\"\n",
            "}\n"
          ]
        }
      ],
      "source": [
        "import json\n",
        "import torch\n",
        "from transformers import pipeline\n",
        "from vaderSentiment.vaderSentiment import SentimentIntensityAnalyzer\n",
        "\n",
        "# Initialize VADER for sentiment analysis\n",
        "vader_analyzer = SentimentIntensityAnalyzer()\n",
        "\n",
        "# Initialize Hugging Face pipeline for intent classification\n",
        "intent_pipeline = pipeline(\"zero-shot-classification\", model=\"facebook/bart-large-mnli\")\n",
        "\n",
        "# Function to classify sentiment using VADER\n",
        "def classify_sentiment_vader(text):\n",
        "    scores = vader_analyzer.polarity_scores(text)\n",
        "    if scores['compound'] >= 0.05:\n",
        "        return \"Reassured\"\n",
        "    elif scores['compound'] <= -0.05:\n",
        "        return \"Anxious\"\n",
        "    else:\n",
        "        return \"Neutral\"\n",
        "\n",
        "# Function to classify intent using a zero-shot model\n",
        "def classify_intent(text):\n",
        "    possible_intents = [\"Seeking reassurance\", \"Reporting symptoms\", \"Expressing concern\"]\n",
        "    result = intent_pipeline(text, possible_intents)\n",
        "    return result[\"labels\"][0]  # Highest confidence intent\n",
        "\n",
        "# Sample text\n",
        "text = \"I'm a bit worried about my back pain, but I hope it gets better soon.\"\n",
        "\n",
        "# Generate output in JSON format\n",
        "output = {\n",
        "    \"Sentiment\": classify_sentiment_vader(text),\n",
        "    \"Intent\": classify_intent(text)\n",
        "}\n",
        "\n",
        "print(json.dumps(output,indent=2))\n",
        "\n"
      ]
    }
  ],
  "metadata": {
    "colab": {
      "provenance": []
    },
    "kernelspec": {
      "display_name": "Python 3",
      "name": "python3"
    },
    "language_info": {
      "name": "python"
    }
  },
  "nbformat": 4,
  "nbformat_minor": 0
}